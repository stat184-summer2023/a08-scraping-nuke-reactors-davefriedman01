{
 "cells": [
  {
   "attachments": {},
   "cell_type": "markdown",
   "metadata": {},
   "source": [
    "# A08 - [Project: Scraping Nuclear Reactors](https://dtkaplan.github.io/DataComputingEbook/project-scraping-nuclear-reactors.html#project-scraping-nuclear-reactors)\n",
    "Kaplan, Daniel & Matthew Beckman. (2021). _Data Computing_. 2nd Ed. [Home](https://dtkaplan.github.io/DataComputingEbook/).\n",
    "\n",
    "https://davefriedman01.github.io/Mathematics/computer/program/rlang/STAT184/intro.html"
   ]
  },
  {
   "attachments": {},
   "cell_type": "markdown",
   "metadata": {},
   "source": [
    "---"
   ]
  },
  {
   "attachments": {},
   "cell_type": "markdown",
   "metadata": {},
   "source": [
    "```{admonition} Revised\n",
    "19 Jun 2023\n",
    "```\n",
    "```{contents}\n",
    "```"
   ]
  },
  {
   "attachments": {},
   "cell_type": "markdown",
   "metadata": {},
   "source": [
    "---"
   ]
  },
  {
   "attachments": {},
   "cell_type": "markdown",
   "metadata": {},
   "source": [
    "## Programming Environment"
   ]
  },
  {
   "cell_type": "code",
   "execution_count": 2,
   "metadata": {
    "vscode": {
     "languageId": "r"
    }
   },
   "outputs": [
    {
     "name": "stderr",
     "output_type": "stream",
     "text": [
      "── \u001b[1mAttaching core tidyverse packages\u001b[22m ──────────────────────── tidyverse 2.0.0 ──\n",
      "\u001b[32m✔\u001b[39m \u001b[34mdplyr    \u001b[39m 1.1.2     \u001b[32m✔\u001b[39m \u001b[34mreadr    \u001b[39m 2.1.4\n",
      "\u001b[32m✔\u001b[39m \u001b[34mforcats  \u001b[39m 1.0.0     \u001b[32m✔\u001b[39m \u001b[34mstringr  \u001b[39m 1.5.0\n",
      "\u001b[32m✔\u001b[39m \u001b[34mggplot2  \u001b[39m 3.4.2     \u001b[32m✔\u001b[39m \u001b[34mtibble   \u001b[39m 3.2.1\n",
      "\u001b[32m✔\u001b[39m \u001b[34mlubridate\u001b[39m 1.9.2     \u001b[32m✔\u001b[39m \u001b[34mtidyr    \u001b[39m 1.3.0\n",
      "\u001b[32m✔\u001b[39m \u001b[34mpurrr    \u001b[39m 1.0.1     \n",
      "── \u001b[1mConflicts\u001b[22m ────────────────────────────────────────── tidyverse_conflicts() ──\n",
      "\u001b[31m✖\u001b[39m \u001b[34mdplyr\u001b[39m::\u001b[32mfilter()\u001b[39m         masks \u001b[34mstats\u001b[39m::filter()\n",
      "\u001b[31m✖\u001b[39m \u001b[34mreadr\u001b[39m::\u001b[32mguess_encoding()\u001b[39m masks \u001b[34mrvest\u001b[39m::guess_encoding()\n",
      "\u001b[31m✖\u001b[39m \u001b[34mdplyr\u001b[39m::\u001b[32mlag()\u001b[39m            masks \u001b[34mstats\u001b[39m::lag()\n",
      "\u001b[36mℹ\u001b[39m Use the conflicted package (\u001b[3m\u001b[34m<http://conflicted.r-lib.org/>\u001b[39m\u001b[23m) to force all conflicts to become errors\n"
     ]
    },
    {
     "data": {
      "text/html": [
       "'EXECUTED : 2023-06-19 22:45:41.883592'"
      ],
      "text/latex": [
       "'EXECUTED : 2023-06-19 22:45:41.883592'"
      ],
      "text/markdown": [
       "'EXECUTED : 2023-06-19 22:45:41.883592'"
      ],
      "text/plain": [
       "[1] \"EXECUTED : 2023-06-19 22:45:41.883592\""
      ]
     },
     "metadata": {},
     "output_type": "display_data"
    },
    {
     "data": {
      "text/plain": [
       "R version 4.3.0 (2023-04-21)\n",
       "Platform: aarch64-apple-darwin20 (64-bit)\n",
       "Running under: macOS Ventura 13.3.1\n",
       "\n",
       "Matrix products: default\n",
       "BLAS:   /Library/Frameworks/R.framework/Versions/4.3-arm64/Resources/lib/libRblas.0.dylib \n",
       "LAPACK: /Library/Frameworks/R.framework/Versions/4.3-arm64/Resources/lib/libRlapack.dylib;  LAPACK version 3.11.0\n",
       "\n",
       "locale:\n",
       "[1] en_US.UTF-8/en_US.UTF-8/en_US.UTF-8/C/en_US.UTF-8/en_US.UTF-8\n",
       "\n",
       "time zone: America/New_York\n",
       "tzcode source: internal\n",
       "\n",
       "attached base packages:\n",
       "[1] stats     graphics  grDevices utils     datasets  methods   base     \n",
       "\n",
       "other attached packages:\n",
       " [1] lubridate_1.9.2 forcats_1.0.0   stringr_1.5.0   dplyr_1.1.2    \n",
       " [5] purrr_1.0.1     readr_2.1.4     tidyr_1.3.0     tibble_3.2.1   \n",
       " [9] ggplot2_3.4.2   tidyverse_2.0.0 rvest_1.0.3    \n",
       "\n",
       "loaded via a namespace (and not attached):\n",
       " [1] gtable_0.3.3     jsonlite_1.8.5   compiler_4.3.0   crayon_1.5.2    \n",
       " [5] tidyselect_1.2.0 IRdisplay_1.1    xml2_1.3.4       scales_1.2.1    \n",
       " [9] uuid_1.1-0       fastmap_1.1.1    IRkernel_1.3.2   R6_2.5.1        \n",
       "[13] generics_0.1.3   munsell_0.5.0    pillar_1.9.0     tzdb_0.4.0      \n",
       "[17] rlang_1.1.1      utf8_1.2.3       stringi_1.7.12   repr_1.1.6      \n",
       "[21] timechange_0.2.0 cli_3.6.1        withr_2.5.0      magrittr_2.0.3  \n",
       "[25] digest_0.6.31    grid_4.3.0       base64enc_0.1-3  hms_1.1.3       \n",
       "[29] pbdZMQ_0.3-9     lifecycle_1.0.3  vctrs_0.6.3      evaluate_0.21   \n",
       "[33] glue_1.6.2       fansi_1.0.4      colorspace_2.1-0 httr_1.4.6      \n",
       "[37] tools_4.3.0      pkgconfig_2.0.3  htmltools_0.5.5 "
      ]
     },
     "metadata": {},
     "output_type": "display_data"
    }
   ],
   "source": [
    "library(rvest)\n",
    "library(tidyverse)\n",
    "\n",
    "str_c('EXECUTED : ', now())\n",
    "sessionInfo()"
   ]
  },
  {
   "attachments": {},
   "cell_type": "markdown",
   "metadata": {},
   "source": [
    "---"
   ]
  },
  {
   "cell_type": "code",
   "execution_count": 28,
   "metadata": {
    "vscode": {
     "languageId": "r"
    }
   },
   "outputs": [
    {
     "data": {
      "text/html": [
       "55"
      ],
      "text/latex": [
       "55"
      ],
      "text/markdown": [
       "55"
      ],
      "text/plain": [
       "[1] 55"
      ]
     },
     "metadata": {},
     "output_type": "display_data"
    },
    {
     "data": {
      "text/html": [
       "<table class=\"dataframe\">\n",
       "<caption>A tibble: 6 × 9</caption>\n",
       "<thead>\n",
       "\t<tr><th scope=col>Plantname</th><th scope=col>UnitNo.</th><th scope=col>Type</th><th scope=col>Model</th><th scope=col>Status</th><th scope=col>Capacity(MW)</th><th scope=col>Beginbuilding</th><th scope=col>Commercialoperation</th><th scope=col>Closed</th></tr>\n",
       "\t<tr><th scope=col>&lt;chr&gt;</th><th scope=col>&lt;chr&gt;</th><th scope=col>&lt;chr&gt;</th><th scope=col>&lt;chr&gt;</th><th scope=col>&lt;chr&gt;</th><th scope=col>&lt;chr&gt;</th><th scope=col>&lt;chr&gt;</th><th scope=col>&lt;chr&gt;</th><th scope=col>&lt;chr&gt;</th></tr>\n",
       "</thead>\n",
       "<tbody>\n",
       "\t<tr><td>Plantname        </td><td>UnitNo.</td><td>Type</td><td>Model</td><td>Status    </td><td>Capacity(MW)</td><td>Beginbuilding</td><td>Commercialoperation</td><td>Closed     </td></tr>\n",
       "\t<tr><td>Fukushima Daiichi</td><td>1      </td><td>BWR </td><td>BWR-3</td><td>Inoperable</td><td>439         </td><td>25 Jul 1967  </td><td>26 Mar 1971        </td><td>19 May 2011</td></tr>\n",
       "\t<tr><td>Fukushima Daiichi</td><td>2      </td><td>BWR </td><td>BWR-4</td><td>Inoperable</td><td>760         </td><td>9 Jun 1969   </td><td>18 Jul 1974        </td><td>19 May 2011</td></tr>\n",
       "\t<tr><td>Fukushima Daiichi</td><td>3      </td><td>BWR </td><td>BWR-4</td><td>Inoperable</td><td>760         </td><td>28 Dec 1970  </td><td>27 Mar 1976        </td><td>19 May 2011</td></tr>\n",
       "\t<tr><td>Fukushima Daiichi</td><td>4      </td><td>BWR </td><td>BWR-4</td><td>Inoperable</td><td>760         </td><td>12 Feb 1973  </td><td>12 Oct 1978        </td><td>19 May 2011</td></tr>\n",
       "\t<tr><td>Fukushima Daiichi</td><td>5      </td><td>BWR </td><td>BWR-4</td><td>Shut down </td><td>760         </td><td>22 May 1972  </td><td>18 Apr 1978        </td><td>17 Dec 2013</td></tr>\n",
       "</tbody>\n",
       "</table>\n"
      ],
      "text/latex": [
       "A tibble: 6 × 9\n",
       "\\begin{tabular}{lllllllll}\n",
       " Plantname & UnitNo. & Type & Model & Status & Capacity(MW) & Beginbuilding & Commercialoperation & Closed\\\\\n",
       " <chr> & <chr> & <chr> & <chr> & <chr> & <chr> & <chr> & <chr> & <chr>\\\\\n",
       "\\hline\n",
       "\t Plantname         & UnitNo. & Type & Model & Status     & Capacity(MW) & Beginbuilding & Commercialoperation & Closed     \\\\\n",
       "\t Fukushima Daiichi & 1       & BWR  & BWR-3 & Inoperable & 439          & 25 Jul 1967   & 26 Mar 1971         & 19 May 2011\\\\\n",
       "\t Fukushima Daiichi & 2       & BWR  & BWR-4 & Inoperable & 760          & 9 Jun 1969    & 18 Jul 1974         & 19 May 2011\\\\\n",
       "\t Fukushima Daiichi & 3       & BWR  & BWR-4 & Inoperable & 760          & 28 Dec 1970   & 27 Mar 1976         & 19 May 2011\\\\\n",
       "\t Fukushima Daiichi & 4       & BWR  & BWR-4 & Inoperable & 760          & 12 Feb 1973   & 12 Oct 1978         & 19 May 2011\\\\\n",
       "\t Fukushima Daiichi & 5       & BWR  & BWR-4 & Shut down  & 760          & 22 May 1972   & 18 Apr 1978         & 17 Dec 2013\\\\\n",
       "\\end{tabular}\n"
      ],
      "text/markdown": [
       "\n",
       "A tibble: 6 × 9\n",
       "\n",
       "| Plantname &lt;chr&gt; | UnitNo. &lt;chr&gt; | Type &lt;chr&gt; | Model &lt;chr&gt; | Status &lt;chr&gt; | Capacity(MW) &lt;chr&gt; | Beginbuilding &lt;chr&gt; | Commercialoperation &lt;chr&gt; | Closed &lt;chr&gt; |\n",
       "|---|---|---|---|---|---|---|---|---|\n",
       "| Plantname         | UnitNo. | Type | Model | Status     | Capacity(MW) | Beginbuilding | Commercialoperation | Closed      |\n",
       "| Fukushima Daiichi | 1       | BWR  | BWR-3 | Inoperable | 439          | 25 Jul 1967   | 26 Mar 1971         | 19 May 2011 |\n",
       "| Fukushima Daiichi | 2       | BWR  | BWR-4 | Inoperable | 760          | 9 Jun 1969    | 18 Jul 1974         | 19 May 2011 |\n",
       "| Fukushima Daiichi | 3       | BWR  | BWR-4 | Inoperable | 760          | 28 Dec 1970   | 27 Mar 1976         | 19 May 2011 |\n",
       "| Fukushima Daiichi | 4       | BWR  | BWR-4 | Inoperable | 760          | 12 Feb 1973   | 12 Oct 1978         | 19 May 2011 |\n",
       "| Fukushima Daiichi | 5       | BWR  | BWR-4 | Shut down  | 760          | 22 May 1972   | 18 Apr 1978         | 17 Dec 2013 |\n",
       "\n"
      ],
      "text/plain": [
       "  Plantname         UnitNo. Type Model Status     Capacity(MW) Beginbuilding\n",
       "1 Plantname         UnitNo. Type Model Status     Capacity(MW) Beginbuilding\n",
       "2 Fukushima Daiichi 1       BWR  BWR-3 Inoperable 439          25 Jul 1967  \n",
       "3 Fukushima Daiichi 2       BWR  BWR-4 Inoperable 760          9 Jun 1969   \n",
       "4 Fukushima Daiichi 3       BWR  BWR-4 Inoperable 760          28 Dec 1970  \n",
       "5 Fukushima Daiichi 4       BWR  BWR-4 Inoperable 760          12 Feb 1973  \n",
       "6 Fukushima Daiichi 5       BWR  BWR-4 Shut down  760          22 May 1972  \n",
       "  Commercialoperation Closed     \n",
       "1 Commercialoperation Closed     \n",
       "2 26 Mar 1971         19 May 2011\n",
       "3 18 Jul 1974         19 May 2011\n",
       "4 27 Mar 1976         19 May 2011\n",
       "5 12 Oct 1978         19 May 2011\n",
       "6 18 Apr 1978         17 Dec 2013"
      ]
     },
     "metadata": {},
     "output_type": "display_data"
    }
   ],
   "source": [
    "page      <- 'https://en.wikipedia.org/wiki/List_of_commerical_nuclear_reactors'\n",
    "tableList <-\n",
    "  page %>%\n",
    "    read_html() %>%\n",
    "    html_nodes(css = 'table') %>%\n",
    "    html_table(fill = TRUE)\n",
    "length(tableList)\n",
    "\n",
    "Japan <-\n",
    "  tableList[[21]] %>%\n",
    "    select(1:9)\n",
    "#names(Japan)[c(3, 6)] <- c('type', 'grossMW')\n",
    "head(Japan)"
   ]
  },
  {
   "attachments": {},
   "cell_type": "markdown",
   "metadata": {},
   "source": [
    "Among other things, some of the variable names appear redundant and others have multiple words separated by spaces. You can rename variables using the data verb `rename()`, finding appropriate names from the Wikipedia table. Another problem is that the first row is not data but a continuation of the variable names. So row number 1 should be dropped."
   ]
  },
  {
   "cell_type": "code",
   "execution_count": 29,
   "metadata": {
    "vscode": {
     "languageId": "r"
    }
   },
   "outputs": [
    {
     "data": {
      "text/html": [
       "<table class=\"dataframe\">\n",
       "<caption>A tibble: 6 × 9</caption>\n",
       "<thead>\n",
       "\t<tr><th scope=col>name</th><th scope=col>reactor</th><th scope=col>Type</th><th scope=col>model</th><th scope=col>status</th><th scope=col>newMW</th><th scope=col>construction</th><th scope=col>operation</th><th scope=col>closure</th></tr>\n",
       "\t<tr><th scope=col>&lt;chr&gt;</th><th scope=col>&lt;chr&gt;</th><th scope=col>&lt;chr&gt;</th><th scope=col>&lt;chr&gt;</th><th scope=col>&lt;chr&gt;</th><th scope=col>&lt;chr&gt;</th><th scope=col>&lt;chr&gt;</th><th scope=col>&lt;chr&gt;</th><th scope=col>&lt;chr&gt;</th></tr>\n",
       "</thead>\n",
       "<tbody>\n",
       "\t<tr><td>Fukushima Daiichi</td><td>1</td><td>BWR</td><td>BWR-3</td><td>Inoperable</td><td>439 </td><td>25 Jul 1967</td><td>26 Mar 1971</td><td>19 May 2011</td></tr>\n",
       "\t<tr><td>Fukushima Daiichi</td><td>2</td><td>BWR</td><td>BWR-4</td><td>Inoperable</td><td>760 </td><td>9 Jun 1969 </td><td>18 Jul 1974</td><td>19 May 2011</td></tr>\n",
       "\t<tr><td>Fukushima Daiichi</td><td>3</td><td>BWR</td><td>BWR-4</td><td>Inoperable</td><td>760 </td><td>28 Dec 1970</td><td>27 Mar 1976</td><td>19 May 2011</td></tr>\n",
       "\t<tr><td>Fukushima Daiichi</td><td>4</td><td>BWR</td><td>BWR-4</td><td>Inoperable</td><td>760 </td><td>12 Feb 1973</td><td>12 Oct 1978</td><td>19 May 2011</td></tr>\n",
       "\t<tr><td>Fukushima Daiichi</td><td>5</td><td>BWR</td><td>BWR-4</td><td>Shut down </td><td>760 </td><td>22 May 1972</td><td>18 Apr 1978</td><td>17 Dec 2013</td></tr>\n",
       "\t<tr><td>Fukushima Daiichi</td><td>6</td><td>BWR</td><td>BWR-5</td><td>Shut down </td><td>1067</td><td>26 Oct 1973</td><td>24 Oct 1979</td><td>17 Dec 2013</td></tr>\n",
       "</tbody>\n",
       "</table>\n"
      ],
      "text/latex": [
       "A tibble: 6 × 9\n",
       "\\begin{tabular}{lllllllll}\n",
       " name & reactor & Type & model & status & newMW & construction & operation & closure\\\\\n",
       " <chr> & <chr> & <chr> & <chr> & <chr> & <chr> & <chr> & <chr> & <chr>\\\\\n",
       "\\hline\n",
       "\t Fukushima Daiichi & 1 & BWR & BWR-3 & Inoperable & 439  & 25 Jul 1967 & 26 Mar 1971 & 19 May 2011\\\\\n",
       "\t Fukushima Daiichi & 2 & BWR & BWR-4 & Inoperable & 760  & 9 Jun 1969  & 18 Jul 1974 & 19 May 2011\\\\\n",
       "\t Fukushima Daiichi & 3 & BWR & BWR-4 & Inoperable & 760  & 28 Dec 1970 & 27 Mar 1976 & 19 May 2011\\\\\n",
       "\t Fukushima Daiichi & 4 & BWR & BWR-4 & Inoperable & 760  & 12 Feb 1973 & 12 Oct 1978 & 19 May 2011\\\\\n",
       "\t Fukushima Daiichi & 5 & BWR & BWR-4 & Shut down  & 760  & 22 May 1972 & 18 Apr 1978 & 17 Dec 2013\\\\\n",
       "\t Fukushima Daiichi & 6 & BWR & BWR-5 & Shut down  & 1067 & 26 Oct 1973 & 24 Oct 1979 & 17 Dec 2013\\\\\n",
       "\\end{tabular}\n"
      ],
      "text/markdown": [
       "\n",
       "A tibble: 6 × 9\n",
       "\n",
       "| name &lt;chr&gt; | reactor &lt;chr&gt; | Type &lt;chr&gt; | model &lt;chr&gt; | status &lt;chr&gt; | newMW &lt;chr&gt; | construction &lt;chr&gt; | operation &lt;chr&gt; | closure &lt;chr&gt; |\n",
       "|---|---|---|---|---|---|---|---|---|\n",
       "| Fukushima Daiichi | 1 | BWR | BWR-3 | Inoperable | 439  | 25 Jul 1967 | 26 Mar 1971 | 19 May 2011 |\n",
       "| Fukushima Daiichi | 2 | BWR | BWR-4 | Inoperable | 760  | 9 Jun 1969  | 18 Jul 1974 | 19 May 2011 |\n",
       "| Fukushima Daiichi | 3 | BWR | BWR-4 | Inoperable | 760  | 28 Dec 1970 | 27 Mar 1976 | 19 May 2011 |\n",
       "| Fukushima Daiichi | 4 | BWR | BWR-4 | Inoperable | 760  | 12 Feb 1973 | 12 Oct 1978 | 19 May 2011 |\n",
       "| Fukushima Daiichi | 5 | BWR | BWR-4 | Shut down  | 760  | 22 May 1972 | 18 Apr 1978 | 17 Dec 2013 |\n",
       "| Fukushima Daiichi | 6 | BWR | BWR-5 | Shut down  | 1067 | 26 Oct 1973 | 24 Oct 1979 | 17 Dec 2013 |\n",
       "\n"
      ],
      "text/plain": [
       "  name              reactor Type model status     newMW construction\n",
       "1 Fukushima Daiichi 1       BWR  BWR-3 Inoperable 439   25 Jul 1967 \n",
       "2 Fukushima Daiichi 2       BWR  BWR-4 Inoperable 760   9 Jun 1969  \n",
       "3 Fukushima Daiichi 3       BWR  BWR-4 Inoperable 760   28 Dec 1970 \n",
       "4 Fukushima Daiichi 4       BWR  BWR-4 Inoperable 760   12 Feb 1973 \n",
       "5 Fukushima Daiichi 5       BWR  BWR-4 Shut down  760   22 May 1972 \n",
       "6 Fukushima Daiichi 6       BWR  BWR-5 Shut down  1067  26 Oct 1973 \n",
       "  operation   closure    \n",
       "1 26 Mar 1971 19 May 2011\n",
       "2 18 Jul 1974 19 May 2011\n",
       "3 27 Mar 1976 19 May 2011\n",
       "4 12 Oct 1978 19 May 2011\n",
       "5 18 Apr 1978 17 Dec 2013\n",
       "6 24 Oct 1979 17 Dec 2013"
      ]
     },
     "metadata": {},
     "output_type": "display_data"
    }
   ],
   "source": [
    "Japan <-\n",
    "  Japan %>%\n",
    "    filter(row_number() > 1) %>%\n",
    "    rename(\n",
    "      name         = Plantname,\n",
    "      reactor      = `UnitNo.`,\n",
    "      model        = Model,\n",
    "      status       = Status,\n",
    "      newMW        = `Capacity(MW)`,\n",
    "      construction = Beginbuilding,\n",
    "      operation    = Commercialoperation,\n",
    "      closure      = Closed\n",
    "    )\n",
    "head(Japan)"
   ]
  },
  {
   "cell_type": "code",
   "execution_count": 30,
   "metadata": {
    "vscode": {
     "languageId": "r"
    }
   },
   "outputs": [
    {
     "name": "stdout",
     "output_type": "stream",
     "text": [
      "tibble [68 × 9] (S3: tbl_df/tbl/data.frame)\n",
      " $ name        : chr [1:68] \"Fukushima Daiichi\" \"Fukushima Daiichi\" \"Fukushima Daiichi\" \"Fukushima Daiichi\" ...\n",
      " $ reactor     : chr [1:68] \"1\" \"2\" \"3\" \"4\" ...\n",
      " $ Type        : chr [1:68] \"BWR\" \"BWR\" \"BWR\" \"BWR\" ...\n",
      " $ model       : chr [1:68] \"BWR-3\" \"BWR-4\" \"BWR-4\" \"BWR-4\" ...\n",
      " $ status      : chr [1:68] \"Inoperable\" \"Inoperable\" \"Inoperable\" \"Inoperable\" ...\n",
      " $ newMW       : chr [1:68] \"439\" \"760\" \"760\" \"760\" ...\n",
      " $ construction: chr [1:68] \"25 Jul 1967\" \"9 Jun 1969\" \"28 Dec 1970\" \"12 Feb 1973\" ...\n",
      " $ operation   : chr [1:68] \"26 Mar 1971\" \"18 Jul 1974\" \"27 Mar 1976\" \"12 Oct 1978\" ...\n",
      " $ closure     : chr [1:68] \"19 May 2011\" \"19 May 2011\" \"19 May 2011\" \"19 May 2011\" ...\n"
     ]
    }
   ],
   "source": [
    "str(Japan)"
   ]
  },
  {
   "cell_type": "code",
   "execution_count": null,
   "metadata": {
    "vscode": {
     "languageId": "r"
    }
   },
   "outputs": [],
   "source": [
    "Japan %>%\n",
    "  mutate(\n",
    "    \n",
    "  )"
   ]
  },
  {
   "attachments": {},
   "cell_type": "markdown",
   "metadata": {},
   "source": [
    "---"
   ]
  }
 ],
 "metadata": {
  "kernelspec": {
   "display_name": "R",
   "language": "R",
   "name": "ir"
  },
  "language_info": {
   "codemirror_mode": "r",
   "file_extension": ".r",
   "mimetype": "text/x-r-source",
   "name": "R",
   "pygments_lexer": "r",
   "version": "4.3.0"
  },
  "orig_nbformat": 4
 },
 "nbformat": 4,
 "nbformat_minor": 2
}
